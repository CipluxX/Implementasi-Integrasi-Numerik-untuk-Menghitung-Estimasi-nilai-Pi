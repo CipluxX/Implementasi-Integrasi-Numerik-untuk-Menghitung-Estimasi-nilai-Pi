{
  "nbformat": 4,
  "nbformat_minor": 0,
  "metadata": {
    "colab": {
      "provenance": [],
      "authorship_tag": "ABX9TyPAupJjy5Vh8JBH9TZZNZTX",
      "include_colab_link": true
    },
    "kernelspec": {
      "name": "python3",
      "display_name": "Python 3"
    },
    "language_info": {
      "name": "python"
    }
  },
  "cells": [
    {
      "cell_type": "markdown",
      "metadata": {
        "id": "view-in-github",
        "colab_type": "text"
      },
      "source": [
        "<a href=\"https://colab.research.google.com/github/CipluxX/Implementasi-Integrasi-Numerik-untuk-Menghitung-Estimasi-nilai-Pi/blob/main/Implementasi_Integrasi_Numerik_untuk_Menghitung_Estimasi_nilai_Pi.ipynb\" target=\"_parent\"><img src=\"https://colab.research.google.com/assets/colab-badge.svg\" alt=\"Open In Colab\"/></a>"
      ]
    },
    {
      "cell_type": "code",
      "execution_count": 7,
      "metadata": {
        "colab": {
          "base_uri": "https://localhost:8080/"
        },
        "id": "R2yPY6QjXulB",
        "outputId": "60b83976-1198-4e3e-fe09-35b900de0bac"
      },
      "outputs": [
        {
          "output_type": "stream",
          "name": "stdout",
          "text": [
            "NIM: 21120122140121, Metode yang digunakan: Riemann Integration\n",
            "\n",
            "N = 10, Approximated Pi = 3.1424259850010987, RMS Error = 0.0008333314113055934, Execution Time = 1.6450881958007812e-05 seconds\n",
            "N = 100, Approximated Pi = 3.1416009869231254, RMS Error = 8.333333332277704e-06, Execution Time = 4.00543212890625e-05 seconds\n",
            "N = 1000, Approximated Pi = 3.1415927369231227, RMS Error = 8.333332957022321e-08, Execution Time = 0.00033974647521972656 seconds\n",
            "N = 10000, Approximated Pi = 3.141592654423134, RMS Error = 8.3334095180021e-10, Execution Time = 0.003221750259399414 seconds\n",
            "\n",
            "\n"
          ]
        }
      ],
      "source": [
        "import time\n",
        "import numpy as np\n",
        "\n",
        "def f(x):\n",
        "    return 4 / (1 + x**2)\n",
        "\n",
        "def riemann_integral(N):\n",
        "    delta_x = 1 / N\n",
        "    sum_area = 0\n",
        "    for i in range(N):\n",
        "        x_i = (i + 0.5) * delta_x\n",
        "        sum_area += f(x_i)\n",
        "    integral_value = delta_x * sum_area\n",
        "    return integral_value\n",
        "\n",
        "def calculate_rms_error(approx_pi, true_pi):\n",
        "    return np.sqrt(np.mean((approx_pi - true_pi) ** 2))\n",
        "\n",
        "def main():\n",
        "    true_pi = 3.14159265358979323846\n",
        "    N_values = [10, 100, 1000, 10000]\n",
        "    method_name = \"Riemann Integration\"\n",
        "    nim = \"21120122140121\"\n",
        "\n",
        "    print(f'NIM: {nim}, Metode yang digunakan: {method_name}\\n')\n",
        "    results = []\n",
        "    for N in N_values:\n",
        "        start_time = time.time()\n",
        "        integral_approx = riemann_integral(N)\n",
        "        end_time = time.time()\n",
        "        rms_error = calculate_rms_error(integral_approx, true_pi)\n",
        "        exec_time = end_time - start_time\n",
        "        results.append((N, integral_approx, rms_error, exec_time))\n",
        "\n",
        "    for result in results:\n",
        "        print(f'N = {result[0]}, Approximated Pi = {result[1]}, RMS Error = {result[2]}, Execution Time = {result[3]} seconds')\n",
        "    print(\"\\n\")\n",
        "\n",
        "if __name__ == \"__main__\":\n",
        "    main()"
      ]
    }
  ]
}